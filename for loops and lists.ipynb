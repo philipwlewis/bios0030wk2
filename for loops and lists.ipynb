{
 "cells": [
  {
   "cell_type": "code",
   "execution_count": 3,
   "id": "b1f52fe0-50da-4490-88e3-64cf0a20fdf5",
   "metadata": {},
   "outputs": [
    {
     "name": "stdout",
     "output_type": "stream",
     "text": [
      "hello\n",
      "0\n",
      "hello\n",
      "1\n",
      "hello\n",
      "2\n",
      "finished\n"
     ]
    }
   ],
   "source": [
    "for i in range(3):\n",
    "    print(\"hello\")\n",
    "    print(i)\n",
    "    \n",
    "print(\"finished\")"
   ]
  },
  {
   "cell_type": "code",
   "execution_count": 4,
   "id": "cca01dd5-8385-409c-a746-e137c881f7fa",
   "metadata": {},
   "outputs": [
    {
     "data": {
      "text/plain": [
       "4"
      ]
     },
     "execution_count": 4,
     "metadata": {},
     "output_type": "execute_result"
    }
   ],
   "source": [
    "mylist = [\"a\", \"b\", \"c\", \"d\"]\n",
    "\n",
    "n = len(mylist)\n",
    "\n",
    "n"
   ]
  },
  {
   "cell_type": "code",
   "execution_count": 5,
   "id": "e15791aa-8e5e-480d-8117-1f9a98ad06a4",
   "metadata": {},
   "outputs": [
    {
     "name": "stdout",
     "output_type": "stream",
     "text": [
      "a\n",
      "b\n",
      "c\n",
      "d\n"
     ]
    }
   ],
   "source": [
    "for i in range(n):\n",
    "    print(mylist[i])\n"
   ]
  },
  {
   "cell_type": "code",
   "execution_count": 7,
   "id": "cde4e1d3-2f58-4105-b974-7b770766145f",
   "metadata": {},
   "outputs": [
    {
     "name": "stdout",
     "output_type": "stream",
     "text": [
      "0 100\n",
      "1 200\n",
      "2 400\n",
      "3 800\n",
      "4 1600\n",
      "5 3200\n",
      "6 6400\n"
     ]
    }
   ],
   "source": [
    "# break command lets you end a for loop early\n",
    "\n",
    "n = 50\n",
    "\n",
    "for i in range(20):\n",
    "    n = n*2\n",
    "    print(i, n)\n",
    "    if n>5000:\n",
    "        break\n",
    "        "
   ]
  },
  {
   "cell_type": "code",
   "execution_count": 8,
   "id": "048e70d0-8b45-4faa-9a00-d2146d9c511c",
   "metadata": {},
   "outputs": [
    {
     "name": "stdout",
     "output_type": "stream",
     "text": [
      "0 100\n",
      "1 200\n"
     ]
    }
   ],
   "source": [
    "# break command lets you end a for loop early\n",
    "\n",
    "n = 50\n",
    "\n",
    "for i in range(20):\n",
    "    n = n*2\n",
    "    print(i, n)\n",
    "    if i==1:\n",
    "        break\n",
    "        "
   ]
  },
  {
   "cell_type": "code",
   "execution_count": 9,
   "id": "f21b5be0-d573-4835-996e-ea3dc9714777",
   "metadata": {},
   "outputs": [
    {
     "name": "stdout",
     "output_type": "stream",
     "text": [
      "here\n",
      "hello Joe\n",
      "hello Flo\n",
      "hello Mo\n",
      "hello Bo\n",
      "here\n",
      "how are you Joe\n",
      "how are you Flo\n",
      "how are you Mo\n",
      "how are you Bo\n",
      "here\n",
      "goodbye Joe\n",
      "goodbye Flo\n",
      "goodbye Mo\n",
      "goodbye Bo\n"
     ]
    }
   ],
   "source": [
    "greetings = [\"hello\", \"how are you\", \"goodbye\"]\n",
    "names = [\"Joe\",\"Flo\",\"Mo\",\"Bo\"]\n",
    "\n",
    "for i in range(3):\n",
    "    print(\"here\")\n",
    "    for j in range(4):\n",
    "        greeting = greetings[i]\n",
    "        name = names[j]\n",
    "        print(greeting, name)\n",
    "        \n"
   ]
  },
  {
   "cell_type": "code",
   "execution_count": 11,
   "id": "8f8323bf-2328-427b-8ae5-6596630a2669",
   "metadata": {},
   "outputs": [
    {
     "name": "stdout",
     "output_type": "stream",
     "text": [
      "hello\n",
      "how are you\n",
      "goodbye\n"
     ]
    }
   ],
   "source": [
    "greetings = [\"hello\", \"how are you\", \"goodbye\"]\n",
    "\n",
    "for item in greetings:\n",
    "    print(item)"
   ]
  },
  {
   "cell_type": "code",
   "execution_count": 12,
   "id": "12e5ceeb-9b87-4912-b76e-062ebe4d58e6",
   "metadata": {},
   "outputs": [
    {
     "name": "stdout",
     "output_type": "stream",
     "text": [
      "Joe\n",
      "Flo\n",
      "Mo\n",
      "Bo\n"
     ]
    }
   ],
   "source": [
    "names = [\"Joe\",\"Flo\",\"Mo\",\"Bo\"]\n",
    "\n",
    "for item in names:\n",
    "    print(item)"
   ]
  },
  {
   "cell_type": "code",
   "execution_count": 13,
   "id": "3c6249be-367b-4cc4-87e1-184bcf2eeb3f",
   "metadata": {},
   "outputs": [
    {
     "name": "stdout",
     "output_type": "stream",
     "text": [
      "Joe\n",
      "Flo\n",
      "Mo\n",
      "Bo\n"
     ]
    }
   ],
   "source": [
    "for x in names:\n",
    "    print(x)"
   ]
  },
  {
   "cell_type": "code",
   "execution_count": 19,
   "id": "a73d2413-2459-46fb-87f1-7d2a8cb1ca0e",
   "metadata": {},
   "outputs": [
    {
     "data": {
      "text/plain": [
       "array([ 0. ,  2.5,  5. ,  7.5, 10. ])"
      ]
     },
     "execution_count": 19,
     "metadata": {},
     "output_type": "execute_result"
    }
   ],
   "source": [
    "import numpy as np\n",
    "\n",
    "myvals = np.linspace(0,10,5)\n",
    "myvals"
   ]
  },
  {
   "cell_type": "code",
   "execution_count": 20,
   "id": "aec128dd-531c-4a10-a79a-2fa6cf2cbb75",
   "metadata": {},
   "outputs": [],
   "source": [
    "myvals = np.linspace(0,50,500)\n"
   ]
  },
  {
   "cell_type": "code",
   "execution_count": 21,
   "id": "6bec8af8-a22e-4058-aa18-18c53b38e0bb",
   "metadata": {},
   "outputs": [
    {
     "data": {
      "text/plain": [
       "array([0.  , 0.25, 0.5 , 0.75, 1.  , 1.25, 1.5 , 1.75, 2.  , 2.25, 2.5 ,\n",
       "       2.75, 3.  , 3.25, 3.5 , 3.75, 4.  , 4.25, 4.5 , 4.75, 5.  , 5.25,\n",
       "       5.5 , 5.75, 6.  , 6.25, 6.5 , 6.75, 7.  , 7.25, 7.5 , 7.75, 8.  ,\n",
       "       8.25, 8.5 , 8.75, 9.  , 9.25, 9.5 , 9.75])"
      ]
     },
     "execution_count": 21,
     "metadata": {},
     "output_type": "execute_result"
    }
   ],
   "source": [
    "myvals = np.arange(0,10,0.25)\n",
    "myvals"
   ]
  },
  {
   "cell_type": "code",
   "execution_count": 23,
   "id": "e850820e-27cd-4e1d-ada3-a759c0534a6c",
   "metadata": {},
   "outputs": [
    {
     "data": {
      "text/plain": [
       "array([ 0.  ,  0.25,  0.5 ,  0.75,  1.  ,  1.25,  1.5 ,  1.75,  2.  ,\n",
       "        2.25,  2.5 ,  2.75,  3.  ,  3.25,  3.5 ,  3.75,  4.  ,  4.25,\n",
       "        4.5 ,  4.75,  5.  ,  5.25,  5.5 ,  5.75,  6.  ,  6.25,  6.5 ,\n",
       "        6.75,  7.  ,  7.25,  7.5 ,  7.75,  8.  ,  8.25,  8.5 ,  8.75,\n",
       "        9.  ,  9.25,  9.5 ,  9.75, 10.  ])"
      ]
     },
     "execution_count": 23,
     "metadata": {},
     "output_type": "execute_result"
    }
   ],
   "source": [
    "myvals = np.arange(0, 10.1 ,0.25)\n",
    "myvals"
   ]
  },
  {
   "cell_type": "code",
   "execution_count": 26,
   "id": "222faea1-97f4-4f6d-8325-8e5bd5591d5d",
   "metadata": {},
   "outputs": [
    {
     "data": {
      "text/plain": [
       "[<matplotlib.lines.Line2D at 0x1b5cd899eb0>]"
      ]
     },
     "execution_count": 26,
     "metadata": {},
     "output_type": "execute_result"
    },
    {
     "data": {
      "image/png": "[encoded data removed]",
      "text/plain": [
       "<Figure size 432x288 with 1 Axes>"
      ]
     },
     "metadata": {
      "needs_background": "light"
     },
     "output_type": "display_data"
    }
   ],
   "source": [
    "x_vals = np.arange(0, 10.1 ,0.25)\n",
    "y_vals = []\n",
    "\n",
    "for x in x_vals:\n",
    "    y = x*x - 20\n",
    "    y_vals.append(y)\n",
    "\n",
    "import matplotlib.pyplot as plt\n",
    "\n",
    "plt.plot(x_vals,y_vals)\n",
    "plt."
   ]
  },
  {
   "cell_type": "code",
   "execution_count": 33,
   "id": "5cf2c3a8-c617-4758-808d-a2fc5e9ae70c",
   "metadata": {},
   "outputs": [],
   "source": [
    "letters = [\"a\", \"b\", \"c\", \"d\", \"e\",\"f\", \"g\", \"h\", \"i\", \"j\"]\n",
    "\n",
    "n = len(letters)"
   ]
  },
  {
   "cell_type": "code",
   "execution_count": 34,
   "id": "b4751c03-ef2c-4aae-8ed4-6ff22d9cf6c0",
   "metadata": {},
   "outputs": [
    {
     "data": {
      "text/plain": [
       "'j'"
      ]
     },
     "execution_count": 34,
     "metadata": {},
     "output_type": "execute_result"
    }
   ],
   "source": [
    "letters[n-1]"
   ]
  },
  {
   "cell_type": "code",
   "execution_count": 35,
   "id": "8c61f621-650f-40db-bb8e-c27b5a39c09f",
   "metadata": {},
   "outputs": [
    {
     "data": {
      "text/plain": [
       "['a', 'b', 'c']"
      ]
     },
     "execution_count": 35,
     "metadata": {},
     "output_type": "execute_result"
    }
   ],
   "source": [
    "letters[0:3]"
   ]
  },
  {
   "cell_type": "code",
   "execution_count": 37,
   "id": "9d4fc95c-04b3-4b6c-a61e-215306ab2f78",
   "metadata": {},
   "outputs": [
    {
     "data": {
      "text/plain": [
       "['e', 'f', 'g', 'h']"
      ]
     },
     "execution_count": 37,
     "metadata": {},
     "output_type": "execute_result"
    }
   ],
   "source": [
    "letters[4:8]"
   ]
  },
  {
   "cell_type": "code",
   "execution_count": 38,
   "id": "1bc48159-d3c9-42ce-8d0c-cde59f1cad45",
   "metadata": {},
   "outputs": [
    {
     "data": {
      "text/plain": [
       "['d', 'e', 'f', 'g', 'h', 'i', 'j']"
      ]
     },
     "execution_count": 38,
     "metadata": {},
     "output_type": "execute_result"
    }
   ],
   "source": [
    "letters[3:]"
   ]
  },
  {
   "cell_type": "code",
   "execution_count": 39,
   "id": "c43f3742-5a8f-403d-a673-509b3a9bfde3",
   "metadata": {},
   "outputs": [
    {
     "data": {
      "text/plain": [
       "['a', 'b', 'c', 'd', 'e']"
      ]
     },
     "execution_count": 39,
     "metadata": {},
     "output_type": "execute_result"
    }
   ],
   "source": [
    "letters[:5]"
   ]
  },
  {
   "cell_type": "code",
   "execution_count": 40,
   "id": "866c6714-481e-455d-abb0-31421155d5dc",
   "metadata": {},
   "outputs": [
    {
     "data": {
      "text/plain": [
       "['a', 'b', 'c', 'd', 'e', 'f', 'g', 'h', 'i', 'j']"
      ]
     },
     "execution_count": 40,
     "metadata": {},
     "output_type": "execute_result"
    }
   ],
   "source": [
    "letters[:]"
   ]
  },
  {
   "cell_type": "code",
   "execution_count": 41,
   "id": "ba213e27-322e-45c7-ab84-e109c5c8272b",
   "metadata": {},
   "outputs": [
    {
     "data": {
      "text/plain": [
       "['a', 'b', 'c', 'd', 'e', 'f', 'g', 'h', 'i', 'j']"
      ]
     },
     "execution_count": 41,
     "metadata": {},
     "output_type": "execute_result"
    }
   ],
   "source": [
    "letters"
   ]
  },
  {
   "cell_type": "code",
   "execution_count": 58,
   "id": "33bae5fd-b648-46d1-97c9-03f8bcd34d46",
   "metadata": {},
   "outputs": [
    {
     "name": "stdout",
     "output_type": "stream",
     "text": [
      "a\n",
      "b\n",
      "e\n"
     ]
    }
   ],
   "source": [
    "to_get = [0,1,4]\n",
    "for idx in to_get:\n",
    "    print(letters[idx])"
   ]
  },
  {
   "cell_type": "code",
   "execution_count": 42,
   "id": "441fb07a-67bf-4fcb-b304-874526aa741a",
   "metadata": {},
   "outputs": [],
   "source": [
    "mylist = [1,2,3]"
   ]
  },
  {
   "cell_type": "code",
   "execution_count": 43,
   "id": "0f43262a-af4d-49df-8bf3-92b668a0e7df",
   "metadata": {},
   "outputs": [],
   "source": [
    "mytuple = (1,2,3)"
   ]
  },
  {
   "cell_type": "code",
   "execution_count": 44,
   "id": "b9d02151-317f-404e-b664-46e9ad2e1a94",
   "metadata": {},
   "outputs": [
    {
     "data": {
      "text/plain": [
       "[1, 'b', 3]"
      ]
     },
     "execution_count": 44,
     "metadata": {},
     "output_type": "execute_result"
    }
   ],
   "source": [
    "mylist[1] = \"b\"\n",
    "mylist"
   ]
  },
  {
   "cell_type": "code",
   "execution_count": 45,
   "id": "bdb6a6e5-931d-439b-a3c9-400e5a7acdd8",
   "metadata": {},
   "outputs": [
    {
     "ename": "TypeError",
     "evalue": "'tuple' object does not support item assignment",
     "output_type": "error",
     "traceback": [
      "\u001b[1;31m---------------------------------------------------------------------------\u001b[0m",
      "\u001b[1;31mTypeError\u001b[0m                                 Traceback (most recent call last)",
      "Input \u001b[1;32mIn [45]\u001b[0m, in \u001b[0;36m<cell line: 1>\u001b[1;34m()\u001b[0m\n\u001b[1;32m----> 1\u001b[0m mytuple[\u001b[38;5;241m1\u001b[39m] \u001b[38;5;241m=\u001b[39m \u001b[38;5;124m\"\u001b[39m\u001b[38;5;124mb\u001b[39m\u001b[38;5;124m\"\u001b[39m\n\u001b[0;32m      2\u001b[0m mytuple\n",
      "\u001b[1;31mTypeError\u001b[0m: 'tuple' object does not support item assignment"
     ]
    }
   ],
   "source": [
    "mytuple[1] = \"b\"\n",
    "mytuple"
   ]
  },
  {
   "cell_type": "code",
   "execution_count": 46,
   "id": "b9a97779-972c-4ad1-9217-ba5b85004fca",
   "metadata": {},
   "outputs": [
    {
     "data": {
      "text/plain": [
       "12"
      ]
     },
     "execution_count": 46,
     "metadata": {},
     "output_type": "execute_result"
    }
   ],
   "source": [
    "(2+2)*3"
   ]
  },
  {
   "cell_type": "code",
   "execution_count": 48,
   "id": "801bb14a-edd5-401b-b7f0-f7a4bef326a6",
   "metadata": {},
   "outputs": [
    {
     "data": {
      "text/plain": [
       "(2,)"
      ]
     },
     "execution_count": 48,
     "metadata": {},
     "output_type": "execute_result"
    }
   ],
   "source": [
    "(2,)"
   ]
  },
  {
   "cell_type": "code",
   "execution_count": 50,
   "id": "20873ef9-4b10-4530-b78c-ee34d6f4dbb5",
   "metadata": {},
   "outputs": [
    {
     "name": "stdout",
     "output_type": "stream",
     "text": [
      "a\n",
      "b\n",
      "c\n",
      "d\n",
      "e\n",
      "f\n",
      "g\n",
      "h\n",
      "i\n",
      "j\n"
     ]
    }
   ],
   "source": [
    "for i in range(len(letters)):\n",
    "    print(letters[i])\n",
    "\n",
    "    "
   ]
  },
  {
   "cell_type": "code",
   "execution_count": 51,
   "id": "a2fc55f1-1303-4e81-9da7-7107400ae827",
   "metadata": {},
   "outputs": [
    {
     "name": "stdout",
     "output_type": "stream",
     "text": [
      "a\n",
      "b\n",
      "c\n",
      "d\n",
      "e\n",
      "f\n",
      "g\n",
      "h\n",
      "i\n",
      "j\n"
     ]
    }
   ],
   "source": [
    "for item in letters:\n",
    "    print(item)"
   ]
  },
  {
   "cell_type": "code",
   "execution_count": null,
   "id": "d2b0a46d-0cbb-4ee5-b9f6-5d9bd6c25ac4",
   "metadata": {},
   "outputs": [],
   "source": [
    "\n",
    "\n",
    "\n",
    "\n"
   ]
  }
 ],
 "metadata": {
  "kernelspec": {
   "display_name": "Python 3 (ipykernel)",
   "language": "python",
   "name": "python3"
  },
  "language_info": {
   "codemirror_mode": {
    "name": "ipython",
    "version": 3
   },
   "file_extension": ".py",
   "mimetype": "text/x-python",
   "name": "python",
   "nbconvert_exporter": "python",
   "pygments_lexer": "ipython3",
   "version": "3.9.12"
  }
 },
 "nbformat": 4,
 "nbformat_minor": 5
}
